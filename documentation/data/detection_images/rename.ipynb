{
 "cells": [
  {
   "cell_type": "code",
   "execution_count": 1,
   "metadata": {},
   "outputs": [],
   "source": [
    "import os"
   ]
  },
  {
   "cell_type": "code",
   "execution_count": 2,
   "metadata": {},
   "outputs": [],
   "source": [
    "xml_files = [file for file in os.listdir() if file.endswith('.xml')]"
   ]
  },
  {
   "cell_type": "code",
   "execution_count": 4,
   "metadata": {},
   "outputs": [
    {
     "ename": "AttributeError",
     "evalue": "'_io.TextIOWrapper' object has no attribute 'replace'",
     "output_type": "error",
     "traceback": [
      "\u001b[1;31m---------------------------------------------------------------------------\u001b[0m",
      "\u001b[1;31mAttributeError\u001b[0m                            Traceback (most recent call last)",
      "\u001b[1;32mc:\\Users\\Olev\\repos\\football-mapper\\documentation\\data\\detection_images\\rename.ipynb Cell 3'\u001b[0m in \u001b[0;36m<cell line: 9>\u001b[1;34m()\u001b[0m\n\u001b[0;32m      <a href='vscode-notebook-cell:/c%3A/Users/Olev/repos/football-mapper/documentation/data/detection_images/rename.ipynb#ch0000002?line=8'>9</a>\u001b[0m \u001b[39mfor\u001b[39;00m file \u001b[39min\u001b[39;00m xml_files:\n\u001b[0;32m     <a href='vscode-notebook-cell:/c%3A/Users/Olev/repos/football-mapper/documentation/data/detection_images/rename.ipynb#ch0000002?line=9'>10</a>\u001b[0m     \u001b[39mwith\u001b[39;00m \u001b[39mopen\u001b[39m(file, \u001b[39m'\u001b[39m\u001b[39mr\u001b[39m\u001b[39m'\u001b[39m) \u001b[39mas\u001b[39;00m data:\n\u001b[1;32m---> <a href='vscode-notebook-cell:/c%3A/Users/Olev/repos/football-mapper/documentation/data/detection_images/rename.ipynb#ch0000002?line=10'>11</a>\u001b[0m         data \u001b[39m=\u001b[39m replace_shit(data)\n\u001b[0;32m     <a href='vscode-notebook-cell:/c%3A/Users/Olev/repos/football-mapper/documentation/data/detection_images/rename.ipynb#ch0000002?line=12'>13</a>\u001b[0m     \u001b[39mwith\u001b[39;00m \u001b[39mopen\u001b[39m(\u001b[39mf\u001b[39m\u001b[39m'\u001b[39m\u001b[39mnew_\u001b[39m\u001b[39m{\u001b[39;00mfile\u001b[39m}\u001b[39;00m\u001b[39m'\u001b[39m, \u001b[39m'\u001b[39m\u001b[39mw+\u001b[39m\u001b[39m'\u001b[39m) \u001b[39mas\u001b[39;00m f:\n\u001b[0;32m     <a href='vscode-notebook-cell:/c%3A/Users/Olev/repos/football-mapper/documentation/data/detection_images/rename.ipynb#ch0000002?line=13'>14</a>\u001b[0m         f\u001b[39m.\u001b[39mwrite(data)\n",
      "\u001b[1;32mc:\\Users\\Olev\\repos\\football-mapper\\documentation\\data\\detection_images\\rename.ipynb Cell 3'\u001b[0m in \u001b[0;36mreplace_shit\u001b[1;34m(string)\u001b[0m\n\u001b[0;32m      <a href='vscode-notebook-cell:/c%3A/Users/Olev/repos/football-mapper/documentation/data/detection_images/rename.ipynb#ch0000002?line=2'>3</a>\u001b[0m strings_to_replace \u001b[39m=\u001b[39m [\u001b[39m'\u001b[39m\u001b[39mTeam A\u001b[39m\u001b[39m'\u001b[39m, \u001b[39m'\u001b[39m\u001b[39mTeam B\u001b[39m\u001b[39m'\u001b[39m, \u001b[39m'\u001b[39m\u001b[39mReferee\u001b[39m\u001b[39m'\u001b[39m, \u001b[39m'\u001b[39m\u001b[39mGoalie\u001b[39m\u001b[39m'\u001b[39m]\n\u001b[0;32m      <a href='vscode-notebook-cell:/c%3A/Users/Olev/repos/football-mapper/documentation/data/detection_images/rename.ipynb#ch0000002?line=3'>4</a>\u001b[0m \u001b[39mfor\u001b[39;00m s \u001b[39min\u001b[39;00m strings_to_replace:\n\u001b[1;32m----> <a href='vscode-notebook-cell:/c%3A/Users/Olev/repos/football-mapper/documentation/data/detection_images/rename.ipynb#ch0000002?line=4'>5</a>\u001b[0m     string \u001b[39m=\u001b[39m string\u001b[39m.\u001b[39;49mreplace(s, \u001b[39m'\u001b[39m\u001b[39mPerson\u001b[39m\u001b[39m'\u001b[39m)\n\u001b[0;32m      <a href='vscode-notebook-cell:/c%3A/Users/Olev/repos/football-mapper/documentation/data/detection_images/rename.ipynb#ch0000002?line=6'>7</a>\u001b[0m \u001b[39mreturn\u001b[39;00m string\n",
      "\u001b[1;31mAttributeError\u001b[0m: '_io.TextIOWrapper' object has no attribute 'replace'"
     ]
    }
   ],
   "source": [
    "def replace_shit(string):\n",
    "\n",
    "    strings_to_replace = ['Team A', 'Team B', 'Referee', 'Goalie']\n",
    "    for s in strings_to_replace:\n",
    "        string = string.replace(s, 'Person')\n",
    "\n",
    "    return string\n",
    "\n",
    "for file in xml_files:\n",
    "    with open(file, 'r') as data:\n",
    "        data = replace_shit(data.read())\n",
    "\n",
    "    with open(f'new_{file}', 'w+') as f:\n",
    "        f.write(data)\n",
    "\n"
   ]
  },
  {
   "cell_type": "code",
   "execution_count": null,
   "metadata": {},
   "outputs": [],
   "source": []
  }
 ],
 "metadata": {
  "interpreter": {
   "hash": "400d74a699f1fe7688108dbb1ff344df38a0b7960a779a364d3876892aaa9d69"
  },
  "kernelspec": {
   "display_name": "Python 3.10.3 64-bit",
   "language": "python",
   "name": "python3"
  },
  "language_info": {
   "codemirror_mode": {
    "name": "ipython",
    "version": 3
   },
   "file_extension": ".py",
   "mimetype": "text/x-python",
   "name": "python",
   "nbconvert_exporter": "python",
   "pygments_lexer": "ipython3",
   "version": "3.10.3"
  },
  "orig_nbformat": 4
 },
 "nbformat": 4,
 "nbformat_minor": 2
}
